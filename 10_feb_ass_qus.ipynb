{
 "cells": [
  {
   "cell_type": "code",
   "execution_count": 1,
   "id": "92990a0d-52f0-4e1e-ab10-a40d2d4930a9",
   "metadata": {},
   "outputs": [],
   "source": [
    "#q-1Which function is used to open a file? What are the different modes of opening a file? Explain each modeof file opening.\n",
    "\n",
    "\n",
    "'''ANS:-In Python, the open() function is used to open a file. It takes two arguments: the file name and the mode in which the file should be opened. The modes are specified as a string, and each mode represents a different way the file can be accessed.\n",
    "\n",
    "Different modes for opening a file:\n",
    "\n",
    "'r' (Read): Opens the file for reading. The file pointer is placed at the beginning of the file.\n",
    "\n",
    "'w' (Write): Opens the file for writing. If the file already exists, it truncates the file. If the file does not exist, it creates a new file for writing.\n",
    "\n",
    "'a' (Append): Opens the file for appending. The file pointer is at the end of the file, and new data is written to the file.\n",
    "\n",
    "'b' (Binary): Opens the file in binary mode.\n",
    "\n",
    "'t' (Text): Opens the file in text mode.'''\n",
    "\n"
   ]
  },
  {
   "cell_type": "code",
   "execution_count": 2,
   "id": "ac395b1f-64c3-4981-89a1-d997968353ff",
   "metadata": {},
   "outputs": [],
   "source": [
    "#Q2. Why close() function is used? Why is it important to close a file?\n",
    "'''ANS:-The close() function is used to close the file. It is important to close a file after performing operations on it because:\n",
    "\n",
    "Closing a file releases the resources associated with it, preventing memory leaks.\n",
    "It ensures that all data is written to the file before closing, avoiding data loss.\n",
    "It makes the file available for other processes or programs to access.'''"
   ]
  },
  {
   "cell_type": "code",
   "execution_count": 3,
   "id": "7133a04f-766a-45cd-8583-35b664de1d9e",
   "metadata": {},
   "outputs": [
    {
     "name": "stdout",
     "output_type": "stream",
     "text": [
      "I want to become a Data Scientist\n"
     ]
    }
   ],
   "source": [
    "#Q3. Write a python program to create a text file. Write ‘I want to become a Data Scientist’ in that file. Thenclose the file. Open this file and read the content of the file.\n",
    "# Creating a text file and writing to it\n",
    "with open('data_scientist.txt', 'w') as file:\n",
    "    file.write('I want to become a Data Scientist')\n",
    "\n",
    "# Reading from the file\n",
    "with open('data_scientist.txt', 'r') as file:\n",
    "    content = file.read()\n",
    "    print(content)\n"
   ]
  },
  {
   "cell_type": "code",
   "execution_count": 6,
   "id": "b06bf6fe-4a15-455e-921a-a4571c3702f7",
   "metadata": {},
   "outputs": [
    {
     "data": {
      "text/plain": [
       "\"with open('example.txt', 'r') as file:\\n    content = file.read()\\nprint(content)\\n\\nwith open('example.txt', 'r') as file:\\n    line = file.readline()\\nprint(line)\\n\\nwith open('example.txt', 'r') as file:\\n    lines = file.readlines()\\nprint(lines)\""
      ]
     },
     "execution_count": 6,
     "metadata": {},
     "output_type": "execute_result"
    }
   ],
   "source": [
    "#Q4. Explain the following with python code: read(), readline() and readlines().\n",
    "'''with open('example.txt', 'r') as file:\n",
    "    content = file.read()\n",
    "print(content)\n",
    "\n",
    "with open('example.txt', 'r') as file:\n",
    "    line = file.readline()\n",
    "print(line)\n",
    "\n",
    "with open('example.txt', 'r') as file:\n",
    "    lines = file.readlines()\n",
    "print(lines)'''\n",
    "\n"
   ]
  },
  {
   "cell_type": "code",
   "execution_count": 8,
   "id": "108a95d6-94f9-4a9c-83a4-7ad4a8178757",
   "metadata": {},
   "outputs": [
    {
     "data": {
      "text/plain": [
       "'The with statement is used with open() to ensure that the file is properly closed after operations. It provides a cleaner syntax and automatically takes care of resource management.\\n\\nAdvantages:\\n\\nIt automatically closes the file even if an exception occurs.\\nIt simplifies the code and reduces the chances of errors related to file handling.'"
      ]
     },
     "execution_count": 8,
     "metadata": {},
     "output_type": "execute_result"
    }
   ],
   "source": [
    "#Q5. Explain why with statement is used with open(). What is the advantage of using with statement andopen() together?\n",
    "'''The with statement is used with open() to ensure that the file is properly closed after operations. It provides a cleaner syntax and automatically takes care of resource management.\n",
    "\n",
    "Advantages:\n",
    "\n",
    "It automatically closes the file even if an exception occurs.\n",
    "It simplifies the code and reduces the chances of errors related to file handling.'''\n",
    "#with open('example.txt', 'r') as file:\n",
    "    #content = file.read()\n",
    "    # Perform operations on the file\n",
    "# File is automatically closed outside the 'with' block\n"
   ]
  },
  {
   "cell_type": "code",
   "execution_count": null,
   "id": "332704e1-cc59-444d-9305-a1e5458da1b8",
   "metadata": {},
   "outputs": [],
   "source": [
    "#Q6. Explain the write() and writelines() functions. Give a suitable example."
   ]
  },
  {
   "cell_type": "code",
   "execution_count": null,
   "id": "ffb8bfd7-540d-461d-98c4-271c8b5ad0f3",
   "metadata": {},
   "outputs": [],
   "source": []
  },
  {
   "cell_type": "code",
   "execution_count": null,
   "id": "ff533a53-b7a8-445c-a87c-f780bb5998b7",
   "metadata": {},
   "outputs": [],
   "source": []
  },
  {
   "cell_type": "code",
   "execution_count": null,
   "id": "8d311f1d-2730-44af-a995-97ef71b2cd65",
   "metadata": {},
   "outputs": [],
   "source": []
  },
  {
   "cell_type": "code",
   "execution_count": null,
   "id": "c21d4609-3c64-4ee8-8699-70b2b94816ff",
   "metadata": {},
   "outputs": [],
   "source": []
  },
  {
   "cell_type": "code",
   "execution_count": null,
   "id": "0baac8d5-e1ef-4939-b593-7d98971182a9",
   "metadata": {},
   "outputs": [],
   "source": []
  },
  {
   "cell_type": "code",
   "execution_count": null,
   "id": "69063a81-64a5-4cb0-af38-b03b8a48bd8f",
   "metadata": {},
   "outputs": [],
   "source": []
  }
 ],
 "metadata": {
  "kernelspec": {
   "display_name": "Python 3 (ipykernel)",
   "language": "python",
   "name": "python3"
  },
  "language_info": {
   "codemirror_mode": {
    "name": "ipython",
    "version": 3
   },
   "file_extension": ".py",
   "mimetype": "text/x-python",
   "name": "python",
   "nbconvert_exporter": "python",
   "pygments_lexer": "ipython3",
   "version": "3.10.8"
  }
 },
 "nbformat": 4,
 "nbformat_minor": 5
}
