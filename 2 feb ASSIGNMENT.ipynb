{
 "cells": [
  {
   "cell_type": "raw",
   "id": "b141469d-2b03-45cc-9035-cb89607af6cf",
   "metadata": {},
   "source": [
    "#Q1. What are the characteristics of the tuples? Is tuple immutable?\n",
    "ans:-\n",
    "Tuples are ordered collections of elements.\n",
    "They can contain elements of different data types.\n",
    "Tuples are immutable, meaning their elements cannot be changed or modified after the tuple is created.\n",
    "Elements in a tuple are accessed using indexing.\n",
    "Tuples allow duplicate elements.\n",
    "They can be nested, meaning a tuple can contain other tuples.\n",
    "\n"
   ]
  },
  {
   "cell_type": "raw",
   "id": "79f9b4e5-ff63-48ba-9796-09a9a7e7c817",
   "metadata": {},
   "source": [
    "#Q2. What are the two tuple methods in python? Give an example of each method. Give a reason why tuples have only two in-built methods as compared to Lists.\n",
    "\n",
    "ans:Tuple Methods in Python:\n",
    "\n",
    "Two commonly used tuple methods are count() and index().\n",
    "\n",
    "Example of count() method:\n",
    "    my_tuple = (1, 2, 2, 3, 4, 2, 5)\n",
    "count_of_2 = my_tuple.count(2)\n",
    "print(count_of_2)  # Output: 3\n",
    "\n",
    "Reason for Limited Methods in Tuples:\n",
    "Tuples are designed to be simple and efficient. Since they are immutable, there is no need for methods that modify the tuple in place. Lists, on the other hand, have more methods because they are mutable and allow dynamic operations like appending, removing, and sorting.\n"
   ]
  },
  {
   "cell_type": "code",
   "execution_count": 11,
   "id": "3a109e2d-b006-4b47-830e-7001e3ddf9a5",
   "metadata": {},
   "outputs": [
    {
     "name": "stdout",
     "output_type": "stream",
     "text": [
      "[1, 2, 3, 4]\n"
     ]
    }
   ],
   "source": [
    "#Q3. Which collection datatypes in python do not allow duplicate items? Write a code using a set to remove duplicates from the given list. List = [1, 1, 1, 2, 1, 3, 1, 4, 2, 1, 2, 2, 2, 3, 2, 4, 3, 1, 3, 2, 3, 3, 3, 4, 4, 1, 4, 2, 4, 3, 4, 4]\n",
    "'''Collection Datatypes in Python that Don't Allow Duplicate Items:\n",
    "\n",
    "Sets do not allow duplicate items.\n",
    "Code to Remove Duplicates from a List Using a Set:'''\n",
    "my_list = [1, 1, 1, 2, 1, 3, 1, 4, 2, 1, 2, 2, 2, 3, 2, 4, 3, 1, 3, 2, 3, 3, 3, 4, 4, 1, 4, 2, 4, 3, 4, 4]\n",
    "unique_set = set(my_list)\n",
    "result_list = list(unique_set)\n",
    "print(result_list)\n"
   ]
  },
  {
   "cell_type": "code",
   "execution_count": 14,
   "id": "1f025607-e930-4f92-96ad-aee30319184b",
   "metadata": {},
   "outputs": [
    {
     "name": "stdout",
     "output_type": "stream",
     "text": [
      "{1, 2, 3, 4, 5}\n",
      "{1, 2, 3, 4, 5}\n"
     ]
    },
    {
     "data": {
      "text/plain": [
       "'Difference:\\n\\nunion() returns a new set without modifying the original sets.\\nupdate() modifies the set in place and adds elements from another set.'"
      ]
     },
     "execution_count": 14,
     "metadata": {},
     "output_type": "execute_result"
    }
   ],
   "source": [
    "#Q4. Explain the difference between the union() and update() methods for a set. Give an example of each method.\n",
    "'''Difference between union() and update() Methods for a Set:\n",
    "\n",
    "Both methods are used to combine sets.\n",
    "\n",
    "Example of union() method:'''\n",
    "set1 = {1, 2, 3}\n",
    "set2 = {3, 4, 5}\n",
    "result_set = set1.union(set2)\n",
    "print(result_set)  # Output: {1, 2, 3, 4, 5}\n",
    "#Example of update() method:\n",
    "set1 = {1, 2, 3}\n",
    "set2 = {3, 4, 5}\n",
    "set1.update(set2)\n",
    "print(set1)  # Output: {1, 2, 3, 4, 5}\n",
    "'''Difference:\n",
    "\n",
    "union() returns a new set without modifying the original sets.\n",
    "update() modifies the set in place and adds elements from another set.'''\n",
    "\n"
   ]
  },
  {
   "cell_type": "code",
   "execution_count": 15,
   "id": "6c49cdb5-6e7b-4e56-9713-490754637ce4",
   "metadata": {},
   "outputs": [],
   "source": [
    "#Q5. What is a dictionary? Give an example. Also, state whether a dictionary is ordered or unordered.\n",
    "my_dict = {'name': 'John', 'age': 25, 'city': 'New York'}\n",
    "'''Dictionaries are not ordered in the sense that the order of items is not guaranteed\n",
    "to be the same as when they were added. However, starting from Python 3.7, \n",
    "the insertion order of items is maintained.'''"
   ]
  },
  {
   "cell_type": "code",
   "execution_count": 16,
   "id": "1ab06750-5f15-4c3f-a8f6-d73843f79034",
   "metadata": {},
   "outputs": [],
   "source": [
    "#Q6. Can we create a nested dictionary? If so, please give an example by creating a simple one-level nested dictionary.\n",
    "'''Yes, we can create a nested dictionary.\n",
    "Example of a Simple One-Level Nested Dictionary:'''\n",
    "my_nested_dict = {'person': {'name': 'Alice', 'age': 30, 'city': 'Wonderland'}}\n"
   ]
  },
  {
   "cell_type": "code",
   "execution_count": 18,
   "id": "90a0458d-8f0f-4fe0-9ac9-028588ca137c",
   "metadata": {},
   "outputs": [
    {
     "name": "stdout",
     "output_type": "stream",
     "text": [
      "{'language': 'Python', 'course': 'Data Science Masters', 'topics': ['Python', 'Machine Learning', 'Deep Learning']}\n"
     ]
    }
   ],
   "source": [
    "#Q7. Using setdefault() method, create key named topics in the given dictionary and also add the value ofthe key as this list ['Python', 'Machine Learning’, 'Deep Learning'] dict1 = {'language' : 'Python', 'course': 'Data Science Masters'}\n",
    "#Using setdefault() Method:\n",
    "dict1 = {'language': 'Python', 'course': 'Data Science Masters'}\n",
    "dict1.setdefault('topics', ['Python', 'Machine Learning', 'Deep Learning'])\n",
    "print(dict1)\n"
   ]
  },
  {
   "cell_type": "code",
   "execution_count": 19,
   "id": "4d5faaba-f113-4220-86ad-2fe659f25181",
   "metadata": {},
   "outputs": [
    {
     "name": "stdout",
     "output_type": "stream",
     "text": [
      "Keys: dict_keys(['Sport', 'Teams'])\n",
      "Values: dict_values(['Cricket', ['India', 'Australia', 'England', 'South Africa', 'Sri Lanka', 'New Zealand']])\n",
      "Items: dict_items([('Sport', 'Cricket'), ('Teams', ['India', 'Australia', 'England', 'South Africa', 'Sri Lanka', 'New Zealand'])])\n"
     ]
    }
   ],
   "source": [
    "#Q8. What are the three view objects in dictionaries? Use the three in-built methods in python to display these three view objects for the given dictionary. dict1 = {'Sport': 'Cricket' , 'Teams': ['India', 'Australia', 'England', 'South Africa', 'Sri Lanka', 'New Zealand']}\n",
    "'''The three view objects in dictionaries are dict_keys, dict_values, and dict_items.\n",
    "Example using the three view objects:'''\n",
    "dict1 = {'Sport': 'Cricket', 'Teams': ['India', 'Australia', 'England', 'South Africa', 'Sri Lanka', 'New Zealand']}\n",
    "\n",
    "keys_view = dict1.keys()\n",
    "values_view = dict1.values()\n",
    "items_view = dict1.items()\n",
    "\n",
    "print(\"Keys:\", keys_view)\n",
    "print(\"Values:\", values_view)\n",
    "print(\"Items:\", items_view)\n"
   ]
  },
  {
   "cell_type": "code",
   "execution_count": null,
   "id": "40e3edab-a387-4259-8160-e148e4956872",
   "metadata": {},
   "outputs": [],
   "source": []
  },
  {
   "cell_type": "code",
   "execution_count": null,
   "id": "cb7f283a-cf18-4340-a5f7-714edaeb8473",
   "metadata": {},
   "outputs": [],
   "source": []
  },
  {
   "cell_type": "code",
   "execution_count": null,
   "id": "1983544f-e963-44a5-a610-c1224bbacfb2",
   "metadata": {},
   "outputs": [],
   "source": []
  },
  {
   "cell_type": "code",
   "execution_count": null,
   "id": "3bef5dc2-08e0-4b68-95c3-78fb85943235",
   "metadata": {},
   "outputs": [],
   "source": []
  },
  {
   "cell_type": "code",
   "execution_count": null,
   "id": "c8bb750e-1283-4140-b357-21d35c59af1f",
   "metadata": {},
   "outputs": [],
   "source": []
  },
  {
   "cell_type": "code",
   "execution_count": null,
   "id": "64c22d2f-7b26-4955-be1a-a3216509b1b3",
   "metadata": {},
   "outputs": [],
   "source": []
  },
  {
   "cell_type": "code",
   "execution_count": null,
   "id": "2cfac71d-186d-4be6-aab6-37942ebfd280",
   "metadata": {},
   "outputs": [],
   "source": []
  },
  {
   "cell_type": "code",
   "execution_count": null,
   "id": "01dcad1f-4bc3-4d90-9865-3584ff24a927",
   "metadata": {},
   "outputs": [],
   "source": []
  }
 ],
 "metadata": {
  "kernelspec": {
   "display_name": "Python 3 (ipykernel)",
   "language": "python",
   "name": "python3"
  },
  "language_info": {
   "codemirror_mode": {
    "name": "ipython",
    "version": 3
   },
   "file_extension": ".py",
   "mimetype": "text/x-python",
   "name": "python",
   "nbconvert_exporter": "python",
   "pygments_lexer": "ipython3",
   "version": "3.10.8"
  }
 },
 "nbformat": 4,
 "nbformat_minor": 5
}
